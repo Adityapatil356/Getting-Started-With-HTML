{
  "nbformat": 4,
  "nbformat_minor": 0,
  "metadata": {
    "colab": {
      "provenance": []
    },
    "kernelspec": {
      "name": "python3",
      "display_name": "Python 3"
    },
    "language_info": {
      "name": "python"
    }
  },
  "cells": [
    {
      "cell_type": "markdown",
      "source": [
        "Getting Started With HTML\n"
      ],
      "metadata": {
        "id": "MKKfZcBjLMEL"
      }
    },
    {
      "cell_type": "code",
      "source": [
        "#Question 1.Write a simple program in HTML  that displays the heading \"HTML defines the content and structure of your website” on the web browser\n",
        "\n",
        "<!DOCTYPE html>\n",
        "<html lang=\"en\">\n",
        "<head>\n",
        "    <meta charset=\"UTF-8\">\n",
        "    <meta name=\"viewport\" content=\"width=device-width, initial-scale=1.0\">\n",
        "    <title>Document</title>\n",
        "</head>\n",
        "<body>\n",
        "\n",
        "    <h1>HTML defines the content and structure of your website</h1>\n",
        "\n",
        "</body>\n",
        " </html>\n"
      ],
      "metadata": {
        "id": "bPrJ4M7NLhGr"
      },
      "execution_count": null,
      "outputs": []
    },
    {
      "cell_type": "markdown",
      "source": [
        "Q 2.Explain the purpose of comments in HTML and provide an example of how to use comments in an HTML\n",
        "document ?\n",
        "\n",
        "--> HTML comments are used to add notes or explanations within the code that are not displayed in the browser."
      ],
      "metadata": {
        "id": "3ckO4o6TMyXz"
      }
    },
    {
      "cell_type": "code",
      "execution_count": null,
      "metadata": {
        "id": "yXNrnismKn4z"
      },
      "outputs": [],
      "source": [
        "# Example\n",
        "# They are Enclosed Within\n",
        "<!-- and -->."
      ]
    },
    {
      "cell_type": "code",
      "source": [
        "<!-- This is a comment -->\n",
        "<p>This is a paragraph.</p>"
      ],
      "metadata": {
        "id": "sW7P9KplNJTz"
      },
      "execution_count": null,
      "outputs": []
    },
    {
      "cell_type": "code",
      "source": [
        "# Question 3. Write an HTML program that includes a heading, a paragraph of text, a horizontal line, and a line break. Arrange these elements to create a simple web page layout\n",
        "\n",
        "<!DOCTYPE html>\n",
        "<html lang=\"en\">\n",
        "<head>\n",
        "    <meta charset=\"UTF-8\">\n",
        "    <meta name=\"viewport\" content=\"width=device-width, initial-scale=1.0\">\n",
        "    <title>Document</title>\n",
        "</head>\n",
        "<body>\n",
        "    <h1>Welcome To My First WebPage</h1>\n",
        "\n",
        "    <p> Welcome to My First Web Page!<br>\n",
        "Hello and welcome!<br>\n",
        " This is my very first web page, and I'm excited to share it with you.<br> Here,\n",
        " I'll be exploring web design, learning new skills, and experimenting with different features.\n",
        "  Stay tuned as I continue to improve and add more content.\n",
        "  I created this space to learn, experiment,\n",
        "   and showcase my progress in web development.\n",
        "    As I continue to grow and improve, I’ll be adding more exciting features and content. Thanks for visiting—hope you enjoy the journey with me!</P>\n",
        "</body>\n",
        "</html>"
      ],
      "metadata": {
        "id": "GmeolvCMg04l"
      },
      "execution_count": null,
      "outputs": []
    },
    {
      "cell_type": "markdown",
      "source": [
        "Q 4. Write a short note on Tag and element with an example ?\n",
        "\n",
        "--> In HTML, a tag is a keyword enclosed in angle brackets(<>)that defines the structure and content of a webpage. Tags usually come in pairs: an opening tag.\n",
        "An element consists of an opening tag, content (if any), and a closing tag. It represents a complete structure or component of a webpage, such as a paragraph, heading, or image. Elements help in organizing and displaying content properly in a web browser.\n"
      ],
      "metadata": {
        "id": "XDTjCKIwRD4r"
      }
    },
    {
      "cell_type": "code",
      "source": [
        "(<tag>)"
      ],
      "metadata": {
        "id": "o9Wy4aEmWVf7"
      },
      "execution_count": null,
      "outputs": []
    },
    {
      "cell_type": "markdown",
      "source": [
        "and a closing tag"
      ],
      "metadata": {
        "id": "NHsYj5U-WY7D"
      }
    },
    {
      "cell_type": "code",
      "source": [
        "(</tag>)."
      ],
      "metadata": {
        "id": "GoKeyOmxWbYj"
      },
      "execution_count": null,
      "outputs": []
    },
    {
      "cell_type": "markdown",
      "source": [
        "An element consists of the opening tag, content (if any), and the closing tag. Some elements, like"
      ],
      "metadata": {
        "id": "p_44MfMNWeBN"
      }
    },
    {
      "cell_type": "code",
      "source": [
        "<br>,  <img>,"
      ],
      "metadata": {
        "id": "Wl6SCrchWhPE"
      },
      "execution_count": null,
      "outputs": []
    },
    {
      "cell_type": "markdown",
      "source": [
        "are self-closing and do not require a closing tag.\n",
        "\n",
        "Example:"
      ],
      "metadata": {
        "id": "QvGODx9EWmJs"
      }
    },
    {
      "cell_type": "code",
      "source": [
        "<p>This is a paragraph.</p>\n"
      ],
      "metadata": {
        "id": "8nqFRU8RWtVs"
      },
      "execution_count": null,
      "outputs": []
    },
    {
      "cell_type": "code",
      "source": [
        "<p>"
      ],
      "metadata": {
        "id": "PFtbk2H_W0wL"
      },
      "execution_count": null,
      "outputs": []
    },
    {
      "cell_type": "markdown",
      "source": [
        " is the tag."
      ],
      "metadata": {
        "id": "JnGVqdnuW1vk"
      }
    },
    {
      "cell_type": "code",
      "source": [
        "<p>This is a paragraph.</p>"
      ],
      "metadata": {
        "id": "2JPi1azvW4z8"
      },
      "execution_count": null,
      "outputs": []
    },
    {
      "cell_type": "markdown",
      "source": [
        "is the element (including the tag and content)."
      ],
      "metadata": {
        "id": "iDC273zHW7h0"
      }
    },
    {
      "cell_type": "markdown",
      "source": [
        "Q 5. What is the DOCTYPE Declaration in HTML?\n",
        "\n",
        "-->"
      ],
      "metadata": {
        "id": "ayvlrKxWXODc"
      }
    },
    {
      "cell_type": "markdown",
      "source": [
        "The <!DOCTYPE> declaration in HTML defines the document type and version of HTML being used. It tells the web browser how to interpret and render the webpage correctly.It must be placed at the very top of the HTML document, before the html tag.\n",
        "It is not case-sensitive, meaning <!Doctype html> or <!DOCTYPE HTML> also work.\n",
        "Unlike older versions, HTML5 does not require a reference to a Document Type Definition (DTD)."
      ],
      "metadata": {
        "id": "y4sUq4IpXVyc"
      }
    }
  ]
}